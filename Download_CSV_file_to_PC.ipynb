{
  "nbformat": 4,
  "nbformat_minor": 0,
  "metadata": {
    "colab": {
      "name": "Download CSV file to PC.ipynb",
      "provenance": [],
      "authorship_tag": "ABX9TyPeKE3a2vE7mqccKKpVBFXc",
      "include_colab_link": true
    },
    "kernelspec": {
      "name": "python3",
      "display_name": "Python 3"
    }
  },
  "cells": [
    {
      "cell_type": "markdown",
      "metadata": {
        "id": "view-in-github",
        "colab_type": "text"
      },
      "source": [
        "<a href=\"https://colab.research.google.com/github/thunderdog101/Machine-Learning/blob/main/Download_CSV_file_to_PC.ipynb\" target=\"_parent\"><img src=\"https://colab.research.google.com/assets/colab-badge.svg\" alt=\"Open In Colab\"/></a>"
      ]
    },
    {
      "cell_type": "code",
      "metadata": {
        "id": "kE-mq1Z8dlOe"
      },
      "source": [
        "from IPython.display import HTML\r\n",
        "import base64  \r\n",
        "import pandas as pd  \r\n",
        "\r\n",
        "def create_download_link( df, title = \"Download CSV file\", filename = \"data.csv\"):  \r\n",
        "    csv = df.to_csv(index =False)\r\n",
        "    b64 = base64.b64encode(csv.encode())\r\n",
        "    payload = b64.decode()\r\n",
        "    html = '<a download=\"{filename}\" href=\"data:text/csv;base64,{payload}\" target=\"_blank\">{title}</a>'\r\n",
        "    html = html.format(payload=payload,title=title,filename=filename)\r\n",
        "    return HTML(html)\r\n",
        "\r\n",
        "create_download_link(df)"
      ],
      "execution_count": null,
      "outputs": []
    },
    {
      "cell_type": "markdown",
      "metadata": {
        "id": "w6EAgBfKdoal"
      },
      "source": [
        "# **Code function for download a csv file to your PC after importing it from external sources**"
      ]
    }
  ]
}